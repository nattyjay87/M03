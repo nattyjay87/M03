{
 "cells": [
  {
   "cell_type": "code",
   "execution_count": 1,
   "id": "0a1781da",
   "metadata": {},
   "outputs": [
    {
     "name": "stdout",
     "output_type": "stream",
     "text": [
      "After capitalizing the element referring to a person: ['Mozarella', 'Cinderella', 'Salmonella']\n"
     ]
    }
   ],
   "source": [
    "things = [\"mozarella\", \"cinderella\", \"salmonella\"]\n",
    "for i in range(len(things)):\n",
    "    if \"ella\" in things[i]:\n",
    "        things[i] = things[i].capitalize()\n",
    "print(\"After capitalizing the element referring to a person:\", things)"
   ]
  },
  {
   "cell_type": "code",
   "execution_count": 4,
   "id": "d9e19cb2",
   "metadata": {},
   "outputs": [
    {
     "name": "stdout",
     "output_type": "stream",
     "text": [
      "After making the cheesy element uppercase: ['Mozarella', 'Cinderella', 'Salmonella']\n"
     ]
    }
   ],
   "source": [
    "for i in range(len(things)):\n",
    "    if \"mozzarella\" in things[i]:\n",
    "        things[i] = things[i].upper()\n",
    "print(\"After making the cheesy element uppercase:\", things)"
   ]
  },
  {
   "cell_type": "code",
   "execution_count": 3,
   "id": "d850369a",
   "metadata": {},
   "outputs": [
    {
     "name": "stdout",
     "output_type": "stream",
     "text": [
      "After deleting the disease element: ['Mozarella', 'Cinderella', 'Salmonella']\n"
     ]
    }
   ],
   "source": [
    "for item in things[:]:\n",
    "    if \"salmonella\" in item:\n",
    "        things.remove(item)\n",
    "print(\"After deleting the disease element:\", things)"
   ]
  },
  {
   "cell_type": "code",
   "execution_count": 5,
   "id": "ed0abe3d",
   "metadata": {},
   "outputs": [
    {
     "name": "stdout",
     "output_type": "stream",
     "text": [
      "The third odd number from range(10) is: 5\n"
     ]
    }
   ],
   "source": [
    "def good():\n",
    "    return ['Harry', 'Ron', 'Hermione']\n",
    "def get_odds():\n",
    "    for number in range(10):\n",
    "        if number % 2 != 0:\n",
    "            yield number\n",
    "third_odd = None\n",
    "count = 0\n",
    "\n",
    "for value in get_odds():\n",
    "    count += 1\n",
    "    if count == 3:\n",
    "        third_odd = value\n",
    "        break\n",
    "print(\"The third odd number from range(10) is:\", third_odd)"
   ]
  },
  {
   "cell_type": "code",
   "execution_count": null,
   "id": "59d34088",
   "metadata": {},
   "outputs": [],
   "source": []
  }
 ],
 "metadata": {
  "kernelspec": {
   "display_name": "Python 3 (ipykernel)",
   "language": "python",
   "name": "python3"
  },
  "language_info": {
   "codemirror_mode": {
    "name": "ipython",
    "version": 3
   },
   "file_extension": ".py",
   "mimetype": "text/x-python",
   "name": "python",
   "nbconvert_exporter": "python",
   "pygments_lexer": "ipython3",
   "version": "3.11.5"
  }
 },
 "nbformat": 4,
 "nbformat_minor": 5
}
